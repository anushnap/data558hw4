{
 "cells": [
  {
   "cell_type": "markdown",
   "id": "disciplinary-custom",
   "metadata": {},
   "source": [
    "## DATA 558 - Homework 4\n",
    "#### Anushna Prakash\n",
    "#### April 30th, 2021\n",
    "\n",
    "##### Coordinate Descent\n",
    "$$\n",
    "F(\\beta) = \\frac{1}{2} (y - x\\beta)^2 + \\lambda|\\beta|\n",
    "$$\n",
    "\n",
    "Implement soft-thresholding in the $n = d = 1$ case. Assume $x = y = 1$ and $\\lambda = 0.5$"
   ]
  },
  {
   "cell_type": "code",
   "execution_count": 6,
   "id": "acting-trigger",
   "metadata": {},
   "outputs": [],
   "source": [
    "import numpy as np\n",
    "import pandas as pd\n",
    "import matplotlib.pyplot as plt"
   ]
  },
  {
   "cell_type": "code",
   "execution_count": 46,
   "id": "bibliographic-niger",
   "metadata": {},
   "outputs": [],
   "source": [
    "def f(beta, x, y, lambda_):\n",
    "    return (1/2) * (y - x * beta)**2 + lambda_* np.abs(beta)\n",
    "\n",
    "def soft_thresholding(x, y, lambda_):\n",
    "    if (x * y) > lambda_:\n",
    "        return (x*y - lambda_) / x**2\n",
    "    elif (x * y) < -lambda_:\n",
    "        return (x*y + lambda_) / x**2\n",
    "    else:\n",
    "        return 0"
   ]
  },
  {
   "cell_type": "code",
   "execution_count": 47,
   "id": "composite-arabic",
   "metadata": {},
   "outputs": [],
   "source": [
    "lambda_ = 0.5\n",
    "x = 1\n",
    "y = 1\n",
    "beta = np.arange(-2, 2, 0.5)\n",
    "obj = f(beta, x, y, lambda_)\n",
    "st = soft_thresholding(x, y, lambda_)"
   ]
  },
  {
   "cell_type": "code",
   "execution_count": 55,
   "id": "weighted-memorabilia",
   "metadata": {},
   "outputs": [
    {
     "data": {
      "text/plain": [
       "Text(0, 0.5, '$F(\\\\beta)$')"
      ]
     },
     "execution_count": 55,
     "metadata": {},
     "output_type": "execute_result"
    },
    {
     "data": {
      "image/png": "[encoded data removed]",
      "text/plain": [
       "<Figure size 432x288 with 1 Axes>"
      ]
     },
     "metadata": {
      "needs_background": "light"
     },
     "output_type": "display_data"
    }
   ],
   "source": [
    "plt.plot(beta, obj, c = \"cornflowerblue\")\n",
    "plt.plot(st, f(st, x, y, lambda_), marker = 'x', markersize = 10, c = 'sienna')\n",
    "plt.xlabel(r'$\\beta$')\n",
    "plt.ylabel(r'$F(\\beta)$')"
   ]
  }
 ],
 "metadata": {
  "kernelspec": {
   "display_name": "Python [conda env:DATA558] *",
   "language": "python",
   "name": "conda-env-DATA558-py"
  },
  "language_info": {
   "codemirror_mode": {
    "name": "ipython",
    "version": 3
   },
   "file_extension": ".py",
   "mimetype": "text/x-python",
   "name": "python",
   "nbconvert_exporter": "python",
   "pygments_lexer": "ipython3",
   "version": "3.7.10"
  }
 },
 "nbformat": 4,
 "nbformat_minor": 5
}
